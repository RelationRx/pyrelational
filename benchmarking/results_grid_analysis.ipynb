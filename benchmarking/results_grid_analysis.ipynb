{
 "cells": [
  {
   "cell_type": "code",
   "execution_count": 1,
   "metadata": {},
   "outputs": [],
   "source": [
    "import os\n",
    "import sys\n",
    "import pandas as pd\n",
    "import seaborn as sns"
   ]
  },
  {
   "cell_type": "markdown",
   "metadata": {},
   "source": [
    "# Results grid analysis notebook\n",
    "\n",
    "Running the trials and experiments via Ray produces a number of files that are related to the \"experiment\" (dataset and all the strategies + all the repeated runs, each being a \"trial\"). Each trial is stored individually, but will be read and collected by a `result_grid` object that can be used to analyse results at the experiment and trial level.\n",
    "\n",
    "This notebook is intended to be used for all the experiments, adapt as necessary to produce the relevant plots."
   ]
  },
  {
   "cell_type": "code",
   "execution_count": 2,
   "metadata": {},
   "outputs": [
    {
     "name": "stderr",
     "output_type": "stream",
     "text": [
      "c:\\Users\\morio\\anaconda3\\envs\\pyrelational2\\Lib\\site-packages\\tqdm\\auto.py:21: TqdmWarning: IProgress not found. Please update jupyter and ipywidgets. See https://ipywidgets.readthedocs.io/en/stable/user_install.html\n",
      "  from .autonotebook import tqdm as notebook_tqdm\n",
      "2024-09-09 12:49:49,218\tINFO util.py:154 -- Missing packages: ['ipywidgets']. Run `pip install -U ipywidgets`, then restart the notebook server for rich notebook output.\n",
      "2024-09-09 12:49:49,571\tINFO util.py:154 -- Missing packages: ['ipywidgets']. Run `pip install -U ipywidgets`, then restart the notebook server for rich notebook output.\n"
     ]
    },
    {
     "ename": "",
     "evalue": "",
     "output_type": "error",
     "traceback": [
      "\u001b[1;31mThe Kernel crashed while executing code in the current cell or a previous cell. \n",
      "\u001b[1;31mPlease review the code in the cell(s) to identify a possible cause of the failure. \n",
      "\u001b[1;31mClick <a href='https://aka.ms/vscodeJupyterKernelCrash'>here</a> for more info. \n",
      "\u001b[1;31mView Jupyter <a href='command:jupyter.viewOutput'>log</a> for further details."
     ]
    }
   ],
   "source": [
    "# Load result_grid\n",
    "# Adapt as needed\n",
    "from ray import tune\n",
    "experiment_name = \"diabetes\"\n",
    "storage_path = os.path.join(os.getcwd(), f\"benchmark_results\")\n",
    "experiment_path = os.path.join(storage_path, experiment_name)\n",
    "\n",
    "print(f\"Loading results from {experiment_path}...\")\n",
    "\n",
    "restored_tuner = tune.Tuner.restore(experiment_path, trainable=\"trial\")\n",
    "result_grid = restored_tuner.get_results()\n"
   ]
  },
  {
   "cell_type": "code",
   "execution_count": 2,
   "metadata": {},
   "outputs": [],
   "source": [
    "# First we will do some housekeeping to make sure our results grid is as we expect\n",
    "\n",
    "# Check if there have been errors\n",
    "if result_grid.errors:\n",
    "    print(\"One of the trials failed!\")\n",
    "else:\n",
    "    print(\"No errors!\")\n",
    "\n",
    "num_results = len(result_grid)\n",
    "print(\"Number of results:\", num_results)\n",
    "\n",
    "# Iterate over results\n",
    "for i, result in enumerate(result_grid):\n",
    "    if result.error:\n",
    "        print(f\"Trial #{i} had an error:\", result.error)\n",
    "        continue\n",
    "\n",
    "    print(\n",
    "        f\"Trial #{i} finished successfully with a test metric of:\",\n",
    "        result.metrics[\"score\"]\n",
    "    )"
   ]
  },
  {
   "cell_type": "code",
   "execution_count": 13,
   "metadata": {},
   "outputs": [],
   "source": [
    "results_df = result_grid.get_dataframe()"
   ]
  },
  {
   "cell_type": "code",
   "execution_count": 14,
   "metadata": {},
   "outputs": [],
   "source": [
    "results_df"
   ]
  },
  {
   "cell_type": "code",
   "execution_count": 15,
   "metadata": {},
   "outputs": [],
   "source": [
    "from tqdm import tqdm\n",
    "def process_results_grid_into_sns_plot_df(results_df):\n",
    "    \"\"\"Process the results grid into a data frame so that we can plot line plots with seaborn.\n",
    "\n",
    "    The current results_df format has each row as a trial, with columns for the trial's parameters and metrics.\n",
    "    We want to create a data frame that has a row for each trial and each element in the list of iteration_metrics,\n",
    "    such that we can plot the metrics over the iterations. The resulting data frame will have the following columns:\n",
    "\n",
    "    - trial_id: The trial's ID\n",
    "    - iteration: The iteration number\n",
    "    - test_metric: The test metric at that iteration\n",
    "    - strategy: The strategy used in that iteration\n",
    "    - seed: The seed used in that trial\n",
    "    - score: The score for that trial\n",
    "    \"\"\"\n",
    "\n",
    "    # iteration_metrics = [\"test_metric\"] # if it was a dictionary entry in the row\n",
    "    sns_plot_df = []\n",
    "\n",
    "    for a, row in tqdm(results_df.iterrows()):\n",
    "        trial_id = row[\"trial_id\"]\n",
    "        seed = row[\"config/seed\"]\n",
    "        score = row[\"score\"]\n",
    "\n",
    "        for iteration, metric_value in enumerate(row[\"iteration_metrics\"]):\n",
    "            # for metric_val in iteration_metrics:\n",
    "            sns_plot_df.append(\n",
    "                {\n",
    "                    \"trial_id\": trial_id,\n",
    "                    \"iteration\": iteration,\n",
    "                    \"test_metric\": metric_value,\n",
    "                    \"strategy\": row[\"config/strategy\"],\n",
    "                    \"seed\": seed,\n",
    "                    \"score\": score,\n",
    "                }\n",
    "            )\n",
    "\n",
    "    return pd.DataFrame(sns_plot_df)"
   ]
  },
  {
   "cell_type": "code",
   "execution_count": 16,
   "metadata": {},
   "outputs": [],
   "source": [
    "sns_results_df = process_results_grid_into_sns_plot_df(results_df)\n",
    "sns_results_df"
   ]
  },
  {
   "cell_type": "code",
   "execution_count": 17,
   "metadata": {},
   "outputs": [],
   "source": [
    "sns.lineplot(data=sns_results_df, x=\"iteration\", y=\"test_metric\", hue=\"strategy\")"
   ]
  },
  {
   "cell_type": "code",
   "execution_count": null,
   "metadata": {},
   "outputs": [],
   "source": []
  },
  {
   "cell_type": "code",
   "execution_count": null,
   "metadata": {},
   "outputs": [],
   "source": []
  }
 ],
 "metadata": {
  "kernelspec": {
   "display_name": "pyrelational",
   "language": "python",
   "name": "python3"
  },
  "language_info": {
   "codemirror_mode": {
    "name": "ipython",
    "version": 3
   },
   "file_extension": ".py",
   "mimetype": "text/x-python",
   "name": "python",
   "nbconvert_exporter": "python",
   "pygments_lexer": "ipython3",
   "version": "3.11.9"
  }
 },
 "nbformat": 4,
 "nbformat_minor": 2
}
